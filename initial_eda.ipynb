{
 "cells": [
  {
   "cell_type": "code",
   "execution_count": 1,
   "metadata": {},
   "outputs": [
    {
     "data": {
      "application/javascript": [
       "\n",
       "            setTimeout(function() {\n",
       "                var nbb_cell_id = 1;\n",
       "                var nbb_unformatted_code = \"%reload_ext nb_black\";\n",
       "                var nbb_formatted_code = \"%reload_ext nb_black\";\n",
       "                var nbb_cells = Jupyter.notebook.get_cells();\n",
       "                for (var i = 0; i < nbb_cells.length; ++i) {\n",
       "                    if (nbb_cells[i].input_prompt_number == nbb_cell_id) {\n",
       "                        if (nbb_cells[i].get_text() == nbb_unformatted_code) {\n",
       "                             nbb_cells[i].set_text(nbb_formatted_code);\n",
       "                        }\n",
       "                        break;\n",
       "                    }\n",
       "                }\n",
       "            }, 500);\n",
       "            "
      ],
      "text/plain": [
       "<IPython.core.display.Javascript object>"
      ]
     },
     "metadata": {},
     "output_type": "display_data"
    }
   ],
   "source": [
    "%reload_ext nb_black"
   ]
  },
  {
   "cell_type": "code",
   "execution_count": 2,
   "metadata": {},
   "outputs": [
    {
     "name": "stderr",
     "output_type": "stream",
     "text": [
      "/usr/local/lib/python3.7/site-packages/statsmodels/tools/_testing.py:19: FutureWarning: pandas.util.testing is deprecated. Use the functions in the public API at pandas.testing instead.\n",
      "  import pandas.util.testing as tm\n"
     ]
    },
    {
     "data": {
      "application/javascript": [
       "\n",
       "            setTimeout(function() {\n",
       "                var nbb_cell_id = 2;\n",
       "                var nbb_unformatted_code = \"import pandas as pd\\nimport numpy as np\\nfrom scipy import stats\\nimport statsmodels.api as sm\\nfrom statsmodels.stats.multitest import multipletests\\nimport seaborn as sns\\nimport matplotlib.pyplot as plt\\n\\n%matplotlib inline\";\n",
       "                var nbb_formatted_code = \"import pandas as pd\\nimport numpy as np\\nfrom scipy import stats\\nimport statsmodels.api as sm\\nfrom statsmodels.stats.multitest import multipletests\\nimport seaborn as sns\\nimport matplotlib.pyplot as plt\\n\\n%matplotlib inline\";\n",
       "                var nbb_cells = Jupyter.notebook.get_cells();\n",
       "                for (var i = 0; i < nbb_cells.length; ++i) {\n",
       "                    if (nbb_cells[i].input_prompt_number == nbb_cell_id) {\n",
       "                        if (nbb_cells[i].get_text() == nbb_unformatted_code) {\n",
       "                             nbb_cells[i].set_text(nbb_formatted_code);\n",
       "                        }\n",
       "                        break;\n",
       "                    }\n",
       "                }\n",
       "            }, 500);\n",
       "            "
      ],
      "text/plain": [
       "<IPython.core.display.Javascript object>"
      ]
     },
     "metadata": {},
     "output_type": "display_data"
    }
   ],
   "source": [
    "import pandas as pd\n",
    "import numpy as np\n",
    "from scipy import stats\n",
    "import statsmodels.api as sm\n",
    "from statsmodels.stats.multitest import multipletests\n",
    "import seaborn as sns\n",
    "import matplotlib.pyplot as plt\n",
    "\n",
    "%matplotlib inline"
   ]
  },
  {
   "cell_type": "code",
   "execution_count": 3,
   "metadata": {},
   "outputs": [
    {
     "data": {
      "application/javascript": [
       "\n",
       "            setTimeout(function() {\n",
       "                var nbb_cell_id = 3;\n",
       "                var nbb_unformatted_code = \"def cles_ind(x1, x2):\\n    \\\"\\\"\\\"Calc common language effect size\\n    \\n    Interpret as the probability that a score sampled\\n    at random from one distribution will be greater than\\n    a score sampled from some other distribution.\\n    \\n    Based on: http://psycnet.apa.org/doi/10.1037/0033-2909.111.2.361\\n    \\n    :param x1: sample 1\\n    :param x2: sample 2\\n    :return: (float) common language effect size\\n    \\\"\\\"\\\"\\n    x1 = np.array(x1)\\n    x2 = np.array(x2)\\n\\n    diff = x1[:, None] - x2\\n    cles = max((diff < 0).sum(), (diff > 0).sum()) / diff.size\\n\\n    return cles\";\n",
       "                var nbb_formatted_code = \"def cles_ind(x1, x2):\\n    \\\"\\\"\\\"Calc common language effect size\\n    \\n    Interpret as the probability that a score sampled\\n    at random from one distribution will be greater than\\n    a score sampled from some other distribution.\\n    \\n    Based on: http://psycnet.apa.org/doi/10.1037/0033-2909.111.2.361\\n    \\n    :param x1: sample 1\\n    :param x2: sample 2\\n    :return: (float) common language effect size\\n    \\\"\\\"\\\"\\n    x1 = np.array(x1)\\n    x2 = np.array(x2)\\n\\n    diff = x1[:, None] - x2\\n    cles = max((diff < 0).sum(), (diff > 0).sum()) / diff.size\\n\\n    return cles\";\n",
       "                var nbb_cells = Jupyter.notebook.get_cells();\n",
       "                for (var i = 0; i < nbb_cells.length; ++i) {\n",
       "                    if (nbb_cells[i].input_prompt_number == nbb_cell_id) {\n",
       "                        if (nbb_cells[i].get_text() == nbb_unformatted_code) {\n",
       "                             nbb_cells[i].set_text(nbb_formatted_code);\n",
       "                        }\n",
       "                        break;\n",
       "                    }\n",
       "                }\n",
       "            }, 500);\n",
       "            "
      ],
      "text/plain": [
       "<IPython.core.display.Javascript object>"
      ]
     },
     "metadata": {},
     "output_type": "display_data"
    }
   ],
   "source": [
    "def cles_ind(x1, x2):\n",
    "    \"\"\"Calc common language effect size\n",
    "    \n",
    "    Interpret as the probability that a score sampled\n",
    "    at random from one distribution will be greater than\n",
    "    a score sampled from some other distribution.\n",
    "    \n",
    "    Based on: http://psycnet.apa.org/doi/10.1037/0033-2909.111.2.361\n",
    "    \n",
    "    :param x1: sample 1\n",
    "    :param x2: sample 2\n",
    "    :return: (float) common language effect size\n",
    "    \"\"\"\n",
    "    x1 = np.array(x1)\n",
    "    x2 = np.array(x2)\n",
    "\n",
    "    diff = x1[:, None] - x2\n",
    "    cles = max((diff < 0).sum(), (diff > 0).sum()) / diff.size\n",
    "\n",
    "    return cles"
   ]
  },
  {
   "cell_type": "markdown",
   "metadata": {},
   "source": [
    "See more about data source/description [here](https://rdrr.io/rforge/Ecdat/man/OFP.html)"
   ]
  },
  {
   "cell_type": "code",
   "execution_count": 4,
   "metadata": {},
   "outputs": [
    {
     "data": {
      "application/javascript": [
       "\n",
       "            setTimeout(function() {\n",
       "                var nbb_cell_id = 4;\n",
       "                var nbb_unformatted_code = \"rename_map = {\\n    \\\"ofp\\\": \\\"n_phys_visits\\\",\\n    \\\"ofnp\\\": \\\"n_non_phys_visits\\\",\\n    \\\"opp\\\": \\\"n_phys_outpatient\\\",\\n    \\\"opnp\\\": \\\"n_non_phys_outpatient\\\",\\n    \\\"emr\\\": \\\"n_er_visits\\\",\\n    \\\"hosp\\\": \\\"n_hosp_visits\\\",\\n    \\\"numchron\\\": \\\"n_chronic_cond\\\",\\n    \\\"adldiff\\\": \\\"has_limiting_cond\\\",\\n    \\\"faminc\\\": \\\"family_income\\\",\\n    \\\"privins\\\": \\\"prvt_ins\\\",\\n    \\\"hlth\\\": \\\"health\\\",\\n}\";\n",
       "                var nbb_formatted_code = \"rename_map = {\\n    \\\"ofp\\\": \\\"n_phys_visits\\\",\\n    \\\"ofnp\\\": \\\"n_non_phys_visits\\\",\\n    \\\"opp\\\": \\\"n_phys_outpatient\\\",\\n    \\\"opnp\\\": \\\"n_non_phys_outpatient\\\",\\n    \\\"emr\\\": \\\"n_er_visits\\\",\\n    \\\"hosp\\\": \\\"n_hosp_visits\\\",\\n    \\\"numchron\\\": \\\"n_chronic_cond\\\",\\n    \\\"adldiff\\\": \\\"has_limiting_cond\\\",\\n    \\\"faminc\\\": \\\"family_income\\\",\\n    \\\"privins\\\": \\\"prvt_ins\\\",\\n    \\\"hlth\\\": \\\"health\\\",\\n}\";\n",
       "                var nbb_cells = Jupyter.notebook.get_cells();\n",
       "                for (var i = 0; i < nbb_cells.length; ++i) {\n",
       "                    if (nbb_cells[i].input_prompt_number == nbb_cell_id) {\n",
       "                        if (nbb_cells[i].get_text() == nbb_unformatted_code) {\n",
       "                             nbb_cells[i].set_text(nbb_formatted_code);\n",
       "                        }\n",
       "                        break;\n",
       "                    }\n",
       "                }\n",
       "            }, 500);\n",
       "            "
      ],
      "text/plain": [
       "<IPython.core.display.Javascript object>"
      ]
     },
     "metadata": {},
     "output_type": "display_data"
    }
   ],
   "source": [
    "rename_map = {\n",
    "    \"ofp\": \"n_phys_visits\",\n",
    "    \"ofnp\": \"n_non_phys_visits\",\n",
    "    \"opp\": \"n_phys_outpatient\",\n",
    "    \"opnp\": \"n_non_phys_outpatient\",\n",
    "    \"emr\": \"n_er_visits\",\n",
    "    \"hosp\": \"n_hosp_visits\",\n",
    "    \"numchron\": \"n_chronic_cond\",\n",
    "    \"adldiff\": \"has_limiting_cond\",\n",
    "    \"faminc\": \"family_income\",\n",
    "    \"privins\": \"prvt_ins\",\n",
    "    \"hlth\": \"health\",\n",
    "}"
   ]
  },
  {
   "cell_type": "code",
   "execution_count": 5,
   "metadata": {},
   "outputs": [
    {
     "data": {
      "application/javascript": [
       "\n",
       "            setTimeout(function() {\n",
       "                var nbb_cell_id = 5;\n",
       "                var nbb_unformatted_code = \"data_path = \\\"data/physician-visits.csv\\\"\";\n",
       "                var nbb_formatted_code = \"data_path = \\\"data/physician-visits.csv\\\"\";\n",
       "                var nbb_cells = Jupyter.notebook.get_cells();\n",
       "                for (var i = 0; i < nbb_cells.length; ++i) {\n",
       "                    if (nbb_cells[i].input_prompt_number == nbb_cell_id) {\n",
       "                        if (nbb_cells[i].get_text() == nbb_unformatted_code) {\n",
       "                             nbb_cells[i].set_text(nbb_formatted_code);\n",
       "                        }\n",
       "                        break;\n",
       "                    }\n",
       "                }\n",
       "            }, 500);\n",
       "            "
      ],
      "text/plain": [
       "<IPython.core.display.Javascript object>"
      ]
     },
     "metadata": {},
     "output_type": "display_data"
    }
   ],
   "source": [
    "data_path = \"data/physician-visits.csv\""
   ]
  },
  {
   "cell_type": "code",
   "execution_count": 6,
   "metadata": {},
   "outputs": [
    {
     "data": {
      "text/html": [
       "<div>\n",
       "<style scoped>\n",
       "    .dataframe tbody tr th:only-of-type {\n",
       "        vertical-align: middle;\n",
       "    }\n",
       "\n",
       "    .dataframe tbody tr th {\n",
       "        vertical-align: top;\n",
       "    }\n",
       "\n",
       "    .dataframe thead th {\n",
       "        text-align: right;\n",
       "    }\n",
       "</style>\n",
       "<table border=\"1\" class=\"dataframe\">\n",
       "  <thead>\n",
       "    <tr style=\"text-align: right;\">\n",
       "      <th></th>\n",
       "      <th>n_phys_visits</th>\n",
       "      <th>n_non_phys_visits</th>\n",
       "      <th>n_phys_outpatient</th>\n",
       "      <th>n_non_phys_outpatient</th>\n",
       "      <th>n_er_visits</th>\n",
       "      <th>n_hosp_visits</th>\n",
       "      <th>n_chronic_cond</th>\n",
       "      <th>has_limiting_cond</th>\n",
       "      <th>age</th>\n",
       "      <th>black</th>\n",
       "      <th>sex</th>\n",
       "      <th>maried</th>\n",
       "      <th>school</th>\n",
       "      <th>family_income</th>\n",
       "      <th>employed</th>\n",
       "      <th>prvt_ins</th>\n",
       "      <th>medicaid</th>\n",
       "      <th>region</th>\n",
       "      <th>health</th>\n",
       "    </tr>\n",
       "  </thead>\n",
       "  <tbody>\n",
       "    <tr>\n",
       "      <th>1</th>\n",
       "      <td>5</td>\n",
       "      <td>0</td>\n",
       "      <td>0</td>\n",
       "      <td>0</td>\n",
       "      <td>0</td>\n",
       "      <td>1</td>\n",
       "      <td>2</td>\n",
       "      <td>0</td>\n",
       "      <td>6.9</td>\n",
       "      <td>1</td>\n",
       "      <td>male</td>\n",
       "      <td>1</td>\n",
       "      <td>6</td>\n",
       "      <td>28810.0</td>\n",
       "      <td>1</td>\n",
       "      <td>1</td>\n",
       "      <td>0</td>\n",
       "      <td>other</td>\n",
       "      <td>other</td>\n",
       "    </tr>\n",
       "    <tr>\n",
       "      <th>2</th>\n",
       "      <td>1</td>\n",
       "      <td>0</td>\n",
       "      <td>2</td>\n",
       "      <td>0</td>\n",
       "      <td>2</td>\n",
       "      <td>0</td>\n",
       "      <td>2</td>\n",
       "      <td>0</td>\n",
       "      <td>7.4</td>\n",
       "      <td>0</td>\n",
       "      <td>female</td>\n",
       "      <td>1</td>\n",
       "      <td>10</td>\n",
       "      <td>27478.0</td>\n",
       "      <td>0</td>\n",
       "      <td>1</td>\n",
       "      <td>0</td>\n",
       "      <td>other</td>\n",
       "      <td>other</td>\n",
       "    </tr>\n",
       "    <tr>\n",
       "      <th>3</th>\n",
       "      <td>13</td>\n",
       "      <td>0</td>\n",
       "      <td>0</td>\n",
       "      <td>0</td>\n",
       "      <td>3</td>\n",
       "      <td>3</td>\n",
       "      <td>4</td>\n",
       "      <td>1</td>\n",
       "      <td>6.6</td>\n",
       "      <td>1</td>\n",
       "      <td>female</td>\n",
       "      <td>0</td>\n",
       "      <td>10</td>\n",
       "      <td>6532.0</td>\n",
       "      <td>0</td>\n",
       "      <td>0</td>\n",
       "      <td>1</td>\n",
       "      <td>other</td>\n",
       "      <td>poor</td>\n",
       "    </tr>\n",
       "    <tr>\n",
       "      <th>4</th>\n",
       "      <td>16</td>\n",
       "      <td>0</td>\n",
       "      <td>5</td>\n",
       "      <td>0</td>\n",
       "      <td>1</td>\n",
       "      <td>1</td>\n",
       "      <td>2</td>\n",
       "      <td>1</td>\n",
       "      <td>7.6</td>\n",
       "      <td>0</td>\n",
       "      <td>male</td>\n",
       "      <td>1</td>\n",
       "      <td>3</td>\n",
       "      <td>6588.0</td>\n",
       "      <td>0</td>\n",
       "      <td>1</td>\n",
       "      <td>0</td>\n",
       "      <td>other</td>\n",
       "      <td>poor</td>\n",
       "    </tr>\n",
       "    <tr>\n",
       "      <th>5</th>\n",
       "      <td>3</td>\n",
       "      <td>0</td>\n",
       "      <td>0</td>\n",
       "      <td>0</td>\n",
       "      <td>0</td>\n",
       "      <td>0</td>\n",
       "      <td>2</td>\n",
       "      <td>1</td>\n",
       "      <td>7.9</td>\n",
       "      <td>0</td>\n",
       "      <td>female</td>\n",
       "      <td>1</td>\n",
       "      <td>6</td>\n",
       "      <td>6588.0</td>\n",
       "      <td>0</td>\n",
       "      <td>1</td>\n",
       "      <td>0</td>\n",
       "      <td>other</td>\n",
       "      <td>other</td>\n",
       "    </tr>\n",
       "  </tbody>\n",
       "</table>\n",
       "</div>"
      ],
      "text/plain": [
       "   n_phys_visits  n_non_phys_visits  n_phys_outpatient  n_non_phys_outpatient  \\\n",
       "1              5                  0                  0                      0   \n",
       "2              1                  0                  2                      0   \n",
       "3             13                  0                  0                      0   \n",
       "4             16                  0                  5                      0   \n",
       "5              3                  0                  0                      0   \n",
       "\n",
       "   n_er_visits  n_hosp_visits  n_chronic_cond  has_limiting_cond  age  black  \\\n",
       "1            0              1               2                  0  6.9      1   \n",
       "2            2              0               2                  0  7.4      0   \n",
       "3            3              3               4                  1  6.6      1   \n",
       "4            1              1               2                  1  7.6      0   \n",
       "5            0              0               2                  1  7.9      0   \n",
       "\n",
       "      sex  maried  school  family_income  employed  prvt_ins  medicaid region  \\\n",
       "1    male       1       6        28810.0         1         1         0  other   \n",
       "2  female       1      10        27478.0         0         1         0  other   \n",
       "3  female       0      10         6532.0         0         0         1  other   \n",
       "4    male       1       3         6588.0         0         1         0  other   \n",
       "5  female       1       6         6588.0         0         1         0  other   \n",
       "\n",
       "  health  \n",
       "1  other  \n",
       "2  other  \n",
       "3   poor  \n",
       "4   poor  \n",
       "5  other  "
      ]
     },
     "execution_count": 6,
     "metadata": {},
     "output_type": "execute_result"
    },
    {
     "data": {
      "application/javascript": [
       "\n",
       "            setTimeout(function() {\n",
       "                var nbb_cell_id = 6;\n",
       "                var nbb_unformatted_code = \"df = pd.read_csv(data_path, index_col=0)\\ndf = df.rename(columns=rename_map)\\n\\n# Family income is in units of 10,000\\n# make this conversion\\ndf[\\\"family_income\\\"] *= 10000\\n\\n# Note, adam is scared of this\\ndf = df.replace({\\\"yes\\\": 1, \\\"no\\\": 0})\\n\\n# Double check column types\\n# print(df.dtypes)\\n\\ndf.head()\";\n",
       "                var nbb_formatted_code = \"df = pd.read_csv(data_path, index_col=0)\\ndf = df.rename(columns=rename_map)\\n\\n# Family income is in units of 10,000\\n# make this conversion\\ndf[\\\"family_income\\\"] *= 10000\\n\\n# Note, adam is scared of this\\ndf = df.replace({\\\"yes\\\": 1, \\\"no\\\": 0})\\n\\n# Double check column types\\n# print(df.dtypes)\\n\\ndf.head()\";\n",
       "                var nbb_cells = Jupyter.notebook.get_cells();\n",
       "                for (var i = 0; i < nbb_cells.length; ++i) {\n",
       "                    if (nbb_cells[i].input_prompt_number == nbb_cell_id) {\n",
       "                        if (nbb_cells[i].get_text() == nbb_unformatted_code) {\n",
       "                             nbb_cells[i].set_text(nbb_formatted_code);\n",
       "                        }\n",
       "                        break;\n",
       "                    }\n",
       "                }\n",
       "            }, 500);\n",
       "            "
      ],
      "text/plain": [
       "<IPython.core.display.Javascript object>"
      ]
     },
     "metadata": {},
     "output_type": "display_data"
    }
   ],
   "source": [
    "df = pd.read_csv(data_path, index_col=0)\n",
    "df = df.rename(columns=rename_map)\n",
    "\n",
    "# Family income is in units of 10,000\n",
    "# make this conversion\n",
    "df[\"family_income\"] *= 10000\n",
    "\n",
    "# Note, adam is scared of this\n",
    "df = df.replace({\"yes\": 1, \"no\": 0})\n",
    "\n",
    "# Double check column types\n",
    "# print(df.dtypes)\n",
    "\n",
    "df.head()"
   ]
  },
  {
   "cell_type": "code",
   "execution_count": 7,
   "metadata": {},
   "outputs": [
    {
     "data": {
      "text/plain": [
       "0"
      ]
     },
     "execution_count": 7,
     "metadata": {},
     "output_type": "execute_result"
    },
    {
     "data": {
      "application/javascript": [
       "\n",
       "            setTimeout(function() {\n",
       "                var nbb_cell_id = 7;\n",
       "                var nbb_unformatted_code = \"# Total number of NAs in whole df\\ndf.isna().sum().sum()\";\n",
       "                var nbb_formatted_code = \"# Total number of NAs in whole df\\ndf.isna().sum().sum()\";\n",
       "                var nbb_cells = Jupyter.notebook.get_cells();\n",
       "                for (var i = 0; i < nbb_cells.length; ++i) {\n",
       "                    if (nbb_cells[i].input_prompt_number == nbb_cell_id) {\n",
       "                        if (nbb_cells[i].get_text() == nbb_unformatted_code) {\n",
       "                             nbb_cells[i].set_text(nbb_formatted_code);\n",
       "                        }\n",
       "                        break;\n",
       "                    }\n",
       "                }\n",
       "            }, 500);\n",
       "            "
      ],
      "text/plain": [
       "<IPython.core.display.Javascript object>"
      ]
     },
     "metadata": {},
     "output_type": "display_data"
    }
   ],
   "source": [
    "# Total number of NAs in whole df\n",
    "df.isna().sum().sum()"
   ]
  },
  {
   "cell_type": "markdown",
   "metadata": {},
   "source": [
    "#### Question: Does level of `'health'` relate to `'family_income'`?"
   ]
  },
  {
   "cell_type": "code",
   "execution_count": 8,
   "metadata": {},
   "outputs": [
    {
     "data": {
      "text/plain": [
       "health            object\n",
       "family_income    float64\n",
       "dtype: object"
      ]
     },
     "execution_count": 8,
     "metadata": {},
     "output_type": "execute_result"
    },
    {
     "data": {
      "application/javascript": [
       "\n",
       "            setTimeout(function() {\n",
       "                var nbb_cell_id = 8;\n",
       "                var nbb_unformatted_code = \"df[[\\\"health\\\", \\\"family_income\\\"]].dtypes\";\n",
       "                var nbb_formatted_code = \"df[[\\\"health\\\", \\\"family_income\\\"]].dtypes\";\n",
       "                var nbb_cells = Jupyter.notebook.get_cells();\n",
       "                for (var i = 0; i < nbb_cells.length; ++i) {\n",
       "                    if (nbb_cells[i].input_prompt_number == nbb_cell_id) {\n",
       "                        if (nbb_cells[i].get_text() == nbb_unformatted_code) {\n",
       "                             nbb_cells[i].set_text(nbb_formatted_code);\n",
       "                        }\n",
       "                        break;\n",
       "                    }\n",
       "                }\n",
       "            }, 500);\n",
       "            "
      ],
      "text/plain": [
       "<IPython.core.display.Javascript object>"
      ]
     },
     "metadata": {},
     "output_type": "display_data"
    }
   ],
   "source": [
    "df[[\"health\", \"family_income\"]].dtypes"
   ]
  },
  {
   "cell_type": "code",
   "execution_count": 9,
   "metadata": {},
   "outputs": [
    {
     "data": {
      "text/plain": [
       "other        3509\n",
       "poor          554\n",
       "excellent     343\n",
       "Name: health, dtype: int64"
      ]
     },
     "execution_count": 9,
     "metadata": {},
     "output_type": "execute_result"
    },
    {
     "data": {
      "application/javascript": [
       "\n",
       "            setTimeout(function() {\n",
       "                var nbb_cell_id = 9;\n",
       "                var nbb_unformatted_code = \"df[\\\"health\\\"].value_counts()\";\n",
       "                var nbb_formatted_code = \"df[\\\"health\\\"].value_counts()\";\n",
       "                var nbb_cells = Jupyter.notebook.get_cells();\n",
       "                for (var i = 0; i < nbb_cells.length; ++i) {\n",
       "                    if (nbb_cells[i].input_prompt_number == nbb_cell_id) {\n",
       "                        if (nbb_cells[i].get_text() == nbb_unformatted_code) {\n",
       "                             nbb_cells[i].set_text(nbb_formatted_code);\n",
       "                        }\n",
       "                        break;\n",
       "                    }\n",
       "                }\n",
       "            }, 500);\n",
       "            "
      ],
      "text/plain": [
       "<IPython.core.display.Javascript object>"
      ]
     },
     "metadata": {},
     "output_type": "display_data"
    }
   ],
   "source": [
    "df[\"health\"].value_counts()"
   ]
  },
  {
   "cell_type": "code",
   "execution_count": 10,
   "metadata": {},
   "outputs": [
    {
     "data": {
      "text/html": [
       "<div>\n",
       "<style scoped>\n",
       "    .dataframe tbody tr th:only-of-type {\n",
       "        vertical-align: middle;\n",
       "    }\n",
       "\n",
       "    .dataframe tbody tr th {\n",
       "        vertical-align: top;\n",
       "    }\n",
       "\n",
       "    .dataframe thead tr th {\n",
       "        text-align: left;\n",
       "    }\n",
       "\n",
       "    .dataframe thead tr:last-of-type th {\n",
       "        text-align: right;\n",
       "    }\n",
       "</style>\n",
       "<table border=\"1\" class=\"dataframe\">\n",
       "  <thead>\n",
       "    <tr>\n",
       "      <th></th>\n",
       "      <th colspan=\"2\" halign=\"left\">family_income</th>\n",
       "    </tr>\n",
       "    <tr>\n",
       "      <th></th>\n",
       "      <th>mean</th>\n",
       "      <th>median</th>\n",
       "    </tr>\n",
       "    <tr>\n",
       "      <th>health</th>\n",
       "      <th></th>\n",
       "      <th></th>\n",
       "    </tr>\n",
       "  </thead>\n",
       "  <tbody>\n",
       "    <tr>\n",
       "      <th>excellent</th>\n",
       "      <td>32774.114577</td>\n",
       "      <td>22719.0</td>\n",
       "    </tr>\n",
       "    <tr>\n",
       "      <th>other</th>\n",
       "      <td>25519.896449</td>\n",
       "      <td>17469.0</td>\n",
       "    </tr>\n",
       "    <tr>\n",
       "      <th>poor</th>\n",
       "      <td>19051.624621</td>\n",
       "      <td>11988.0</td>\n",
       "    </tr>\n",
       "  </tbody>\n",
       "</table>\n",
       "</div>"
      ],
      "text/plain": [
       "          family_income         \n",
       "                   mean   median\n",
       "health                          \n",
       "excellent  32774.114577  22719.0\n",
       "other      25519.896449  17469.0\n",
       "poor       19051.624621  11988.0"
      ]
     },
     "execution_count": 10,
     "metadata": {},
     "output_type": "execute_result"
    },
    {
     "data": {
      "application/javascript": [
       "\n",
       "            setTimeout(function() {\n",
       "                var nbb_cell_id = 10;\n",
       "                var nbb_unformatted_code = \"df.groupby(\\\"health\\\").agg({\\\"family_income\\\": [\\\"mean\\\", \\\"median\\\"]})\";\n",
       "                var nbb_formatted_code = \"df.groupby(\\\"health\\\").agg({\\\"family_income\\\": [\\\"mean\\\", \\\"median\\\"]})\";\n",
       "                var nbb_cells = Jupyter.notebook.get_cells();\n",
       "                for (var i = 0; i < nbb_cells.length; ++i) {\n",
       "                    if (nbb_cells[i].input_prompt_number == nbb_cell_id) {\n",
       "                        if (nbb_cells[i].get_text() == nbb_unformatted_code) {\n",
       "                             nbb_cells[i].set_text(nbb_formatted_code);\n",
       "                        }\n",
       "                        break;\n",
       "                    }\n",
       "                }\n",
       "            }, 500);\n",
       "            "
      ],
      "text/plain": [
       "<IPython.core.display.Javascript object>"
      ]
     },
     "metadata": {},
     "output_type": "display_data"
    }
   ],
   "source": [
    "df.groupby(\"health\").agg({\"family_income\": [\"mean\", \"median\"]})"
   ]
  },
  {
   "cell_type": "code",
   "execution_count": 11,
   "metadata": {},
   "outputs": [
    {
     "data": {
      "application/javascript": [
       "\n",
       "            setTimeout(function() {\n",
       "                var nbb_cell_id = 11;\n",
       "                var nbb_unformatted_code = \"# TODO: follow up on what the 'other' category is?\\n# Can it include potentially excellent/poor health participants?\\n# Is it exclusively meaning 'not excellent or poor'?\";\n",
       "                var nbb_formatted_code = \"# TODO: follow up on what the 'other' category is?\\n# Can it include potentially excellent/poor health participants?\\n# Is it exclusively meaning 'not excellent or poor'?\";\n",
       "                var nbb_cells = Jupyter.notebook.get_cells();\n",
       "                for (var i = 0; i < nbb_cells.length; ++i) {\n",
       "                    if (nbb_cells[i].input_prompt_number == nbb_cell_id) {\n",
       "                        if (nbb_cells[i].get_text() == nbb_unformatted_code) {\n",
       "                             nbb_cells[i].set_text(nbb_formatted_code);\n",
       "                        }\n",
       "                        break;\n",
       "                    }\n",
       "                }\n",
       "            }, 500);\n",
       "            "
      ],
      "text/plain": [
       "<IPython.core.display.Javascript object>"
      ]
     },
     "metadata": {},
     "output_type": "display_data"
    }
   ],
   "source": [
    "# TODO: follow up on what the 'other' category is?\n",
    "# Can it include potentially excellent/poor health participants?\n",
    "# Is it exclusively meaning 'not excellent or poor'?"
   ]
  },
  {
   "cell_type": "code",
   "execution_count": 12,
   "metadata": {},
   "outputs": [
    {
     "data": {
      "image/png": "[encoded data removed]",
      "text/plain": [
       "<Figure size 432x288 with 1 Axes>"
      ]
     },
     "metadata": {
      "needs_background": "light"
     },
     "output_type": "display_data"
    },
    {
     "data": {
      "application/javascript": [
       "\n",
       "            setTimeout(function() {\n",
       "                var nbb_cell_id = 12;\n",
       "                var nbb_unformatted_code = \"# TODO: should we keep what looks to be 3 income outliers\\n# in the other category?  Is it really only 3 above 300K?\\n# Other is a big group, we're not data poor, consider how dropping\\n# would affect the analysis.\\n\\nplot_df = df.copy()\\nplot_df[\\\"health\\\"] = plot_df[\\\"health\\\"].str.title()\\n\\nsns.boxplot(\\\"health\\\", \\\"family_income\\\", data=plot_df)\\nplt.ylabel(\\\"Family Income\\\")\\nplt.xlabel(\\\"Health Category\\\")\\nplt.tight_layout()\\nplt.savefig(\\\"boxplot.png\\\")\\nplt.show()\";\n",
       "                var nbb_formatted_code = \"# TODO: should we keep what looks to be 3 income outliers\\n# in the other category?  Is it really only 3 above 300K?\\n# Other is a big group, we're not data poor, consider how dropping\\n# would affect the analysis.\\n\\nplot_df = df.copy()\\nplot_df[\\\"health\\\"] = plot_df[\\\"health\\\"].str.title()\\n\\nsns.boxplot(\\\"health\\\", \\\"family_income\\\", data=plot_df)\\nplt.ylabel(\\\"Family Income\\\")\\nplt.xlabel(\\\"Health Category\\\")\\nplt.tight_layout()\\nplt.savefig(\\\"boxplot.png\\\")\\nplt.show()\";\n",
       "                var nbb_cells = Jupyter.notebook.get_cells();\n",
       "                for (var i = 0; i < nbb_cells.length; ++i) {\n",
       "                    if (nbb_cells[i].input_prompt_number == nbb_cell_id) {\n",
       "                        if (nbb_cells[i].get_text() == nbb_unformatted_code) {\n",
       "                             nbb_cells[i].set_text(nbb_formatted_code);\n",
       "                        }\n",
       "                        break;\n",
       "                    }\n",
       "                }\n",
       "            }, 500);\n",
       "            "
      ],
      "text/plain": [
       "<IPython.core.display.Javascript object>"
      ]
     },
     "metadata": {},
     "output_type": "display_data"
    }
   ],
   "source": [
    "# TODO: should we keep what looks to be 3 income outliers\n",
    "# in the other category?  Is it really only 3 above 300K?\n",
    "# Other is a big group, we're not data poor, consider how dropping\n",
    "# would affect the analysis.\n",
    "\n",
    "plot_df = df.copy()\n",
    "plot_df[\"health\"] = plot_df[\"health\"].str.title()\n",
    "\n",
    "sns.boxplot(\"health\", \"family_income\", data=plot_df)\n",
    "plt.ylabel(\"Family Income\")\n",
    "plt.xlabel(\"Health Category\")\n",
    "plt.tight_layout()\n",
    "plt.savefig(\"imgs/boxplot.png\")\n",
    "plt.show()"
   ]
  },
  {
   "cell_type": "code",
   "execution_count": 13,
   "metadata": {},
   "outputs": [
    {
     "data": {
      "image/png": "[encoded data removed]",
      "text/plain": [
       "<Figure size 432x288 with 1 Axes>"
      ]
     },
     "metadata": {
      "needs_background": "light"
     },
     "output_type": "display_data"
    },
    {
     "data": {
      "application/javascript": [
       "\n",
       "            setTimeout(function() {\n",
       "                var nbb_cell_id = 13;\n",
       "                var nbb_unformatted_code = \"sns.violinplot(\\\"health\\\", \\\"family_income\\\", data=df)\\nplt.show()\";\n",
       "                var nbb_formatted_code = \"sns.violinplot(\\\"health\\\", \\\"family_income\\\", data=df)\\nplt.show()\";\n",
       "                var nbb_cells = Jupyter.notebook.get_cells();\n",
       "                for (var i = 0; i < nbb_cells.length; ++i) {\n",
       "                    if (nbb_cells[i].input_prompt_number == nbb_cell_id) {\n",
       "                        if (nbb_cells[i].get_text() == nbb_unformatted_code) {\n",
       "                             nbb_cells[i].set_text(nbb_formatted_code);\n",
       "                        }\n",
       "                        break;\n",
       "                    }\n",
       "                }\n",
       "            }, 500);\n",
       "            "
      ],
      "text/plain": [
       "<IPython.core.display.Javascript object>"
      ]
     },
     "metadata": {},
     "output_type": "display_data"
    }
   ],
   "source": [
    "sns.violinplot(\"health\", \"family_income\", data=df)\n",
    "plt.show()"
   ]
  },
  {
   "cell_type": "markdown",
   "metadata": {},
   "source": [
    "We have 3 groups, so we might ANOVA.  We need to check assumptions.\n",
    "\n",
    "* Continuous? Yep\n",
    "* Independent? Yep\n",
    "* Normal? Not"
   ]
  },
  {
   "cell_type": "code",
   "execution_count": 14,
   "metadata": {},
   "outputs": [
    {
     "data": {
      "application/javascript": [
       "\n",
       "            setTimeout(function() {\n",
       "                var nbb_cell_id = 14;\n",
       "                var nbb_unformatted_code = \"# (df[\\\"family_income\\\"] == 0).sum()\\n# Result: 18 records with 0 income\\n\\n# TODO: come back and re-evaluate if dropping 0s is a good idea\\n# for now, dropping to investigate if log transform is a good idea\\n\\n# TODO: for now, going to proceed with a non-parametric test\\n# potentially, re-investigate normality assumption w/ log transform\\n# and use ANOVA\\ndf = df[df[\\\"family_income\\\"] > 0]\";\n",
       "                var nbb_formatted_code = \"# (df[\\\"family_income\\\"] == 0).sum()\\n# Result: 18 records with 0 income\\n\\n# TODO: come back and re-evaluate if dropping 0s is a good idea\\n# for now, dropping to investigate if log transform is a good idea\\n\\n# TODO: for now, going to proceed with a non-parametric test\\n# potentially, re-investigate normality assumption w/ log transform\\n# and use ANOVA\\ndf = df[df[\\\"family_income\\\"] > 0]\";\n",
       "                var nbb_cells = Jupyter.notebook.get_cells();\n",
       "                for (var i = 0; i < nbb_cells.length; ++i) {\n",
       "                    if (nbb_cells[i].input_prompt_number == nbb_cell_id) {\n",
       "                        if (nbb_cells[i].get_text() == nbb_unformatted_code) {\n",
       "                             nbb_cells[i].set_text(nbb_formatted_code);\n",
       "                        }\n",
       "                        break;\n",
       "                    }\n",
       "                }\n",
       "            }, 500);\n",
       "            "
      ],
      "text/plain": [
       "<IPython.core.display.Javascript object>"
      ]
     },
     "metadata": {},
     "output_type": "display_data"
    }
   ],
   "source": [
    "# (df[\"family_income\"] == 0).sum()\n",
    "# Result: 18 records with 0 income\n",
    "\n",
    "# TODO: come back and re-evaluate if dropping 0s is a good idea\n",
    "# for now, dropping to investigate if log transform is a good idea\n",
    "\n",
    "# TODO: for now, going to proceed with a non-parametric test\n",
    "# potentially, re-investigate normality assumption w/ log transform\n",
    "# and use ANOVA\n",
    "df = df[df[\"family_income\"] > 0]"
   ]
  },
  {
   "cell_type": "code",
   "execution_count": 15,
   "metadata": {},
   "outputs": [
    {
     "data": {
      "application/javascript": [
       "\n",
       "            setTimeout(function() {\n",
       "                var nbb_cell_id = 15;\n",
       "                var nbb_unformatted_code = \"other = df[df[\\\"health\\\"] == \\\"other\\\"]\\npoor = df[df[\\\"health\\\"] == \\\"poor\\\"]\\nexcellent = df[df[\\\"health\\\"] == \\\"excellent\\\"]\";\n",
       "                var nbb_formatted_code = \"other = df[df[\\\"health\\\"] == \\\"other\\\"]\\npoor = df[df[\\\"health\\\"] == \\\"poor\\\"]\\nexcellent = df[df[\\\"health\\\"] == \\\"excellent\\\"]\";\n",
       "                var nbb_cells = Jupyter.notebook.get_cells();\n",
       "                for (var i = 0; i < nbb_cells.length; ++i) {\n",
       "                    if (nbb_cells[i].input_prompt_number == nbb_cell_id) {\n",
       "                        if (nbb_cells[i].get_text() == nbb_unformatted_code) {\n",
       "                             nbb_cells[i].set_text(nbb_formatted_code);\n",
       "                        }\n",
       "                        break;\n",
       "                    }\n",
       "                }\n",
       "            }, 500);\n",
       "            "
      ],
      "text/plain": [
       "<IPython.core.display.Javascript object>"
      ]
     },
     "metadata": {},
     "output_type": "display_data"
    }
   ],
   "source": [
    "other = df[df[\"health\"] == \"other\"]\n",
    "poor = df[df[\"health\"] == \"poor\"]\n",
    "excellent = df[df[\"health\"] == \"excellent\"]"
   ]
  },
  {
   "cell_type": "code",
   "execution_count": 16,
   "metadata": {},
   "outputs": [
    {
     "data": {
      "image/png": "[encoded data removed]",
      "text/plain": [
       "<Figure size 432x288 with 1 Axes>"
      ]
     },
     "metadata": {
      "needs_background": "light"
     },
     "output_type": "display_data"
    },
    {
     "data": {
      "image/png": "[encoded data removed]",
      "text/plain": [
       "<Figure size 432x288 with 1 Axes>"
      ]
     },
     "metadata": {
      "needs_background": "light"
     },
     "output_type": "display_data"
    },
    {
     "data": {
      "image/png": "[encoded data removed]",
      "text/plain": [
       "<Figure size 432x288 with 1 Axes>"
      ]
     },
     "metadata": {
      "needs_background": "light"
     },
     "output_type": "display_data"
    },
    {
     "data": {
      "application/javascript": [
       "\n",
       "            setTimeout(function() {\n",
       "                var nbb_cell_id = 16;\n",
       "                var nbb_unformatted_code = \"sm.qqplot(other[\\\"family_income\\\"], line=\\\"s\\\")\\nplt.title(\\\"other\\\")\\nplt.show()\\n\\nsm.qqplot(poor[\\\"family_income\\\"], line=\\\"s\\\")\\nplt.title(\\\"poor\\\")\\nplt.show()\\n\\nsm.qqplot(excellent[\\\"family_income\\\"], line=\\\"s\\\")\\nplt.title(\\\"excellent\\\")\\nplt.show()\";\n",
       "                var nbb_formatted_code = \"sm.qqplot(other[\\\"family_income\\\"], line=\\\"s\\\")\\nplt.title(\\\"other\\\")\\nplt.show()\\n\\nsm.qqplot(poor[\\\"family_income\\\"], line=\\\"s\\\")\\nplt.title(\\\"poor\\\")\\nplt.show()\\n\\nsm.qqplot(excellent[\\\"family_income\\\"], line=\\\"s\\\")\\nplt.title(\\\"excellent\\\")\\nplt.show()\";\n",
       "                var nbb_cells = Jupyter.notebook.get_cells();\n",
       "                for (var i = 0; i < nbb_cells.length; ++i) {\n",
       "                    if (nbb_cells[i].input_prompt_number == nbb_cell_id) {\n",
       "                        if (nbb_cells[i].get_text() == nbb_unformatted_code) {\n",
       "                             nbb_cells[i].set_text(nbb_formatted_code);\n",
       "                        }\n",
       "                        break;\n",
       "                    }\n",
       "                }\n",
       "            }, 500);\n",
       "            "
      ],
      "text/plain": [
       "<IPython.core.display.Javascript object>"
      ]
     },
     "metadata": {},
     "output_type": "display_data"
    }
   ],
   "source": [
    "sm.qqplot(other[\"family_income\"], line=\"s\")\n",
    "plt.title(\"other\")\n",
    "plt.show()\n",
    "\n",
    "sm.qqplot(poor[\"family_income\"], line=\"s\")\n",
    "plt.title(\"poor\")\n",
    "plt.show()\n",
    "\n",
    "sm.qqplot(excellent[\"family_income\"], line=\"s\")\n",
    "plt.title(\"excellent\")\n",
    "plt.show()"
   ]
  },
  {
   "cell_type": "code",
   "execution_count": 17,
   "metadata": {},
   "outputs": [
    {
     "data": {
      "text/plain": [
       "True"
      ]
     },
     "execution_count": 17,
     "metadata": {},
     "output_type": "execute_result"
    },
    {
     "data": {
      "application/javascript": [
       "\n",
       "            setTimeout(function() {\n",
       "                var nbb_cell_id = 17;\n",
       "                var nbb_unformatted_code = \"_, p = stats.kruskal(\\n    other[\\\"family_income\\\"], poor[\\\"family_income\\\"], excellent[\\\"family_income\\\"]\\n)\\n\\nreject = p < 0.05\\nreject\";\n",
       "                var nbb_formatted_code = \"_, p = stats.kruskal(\\n    other[\\\"family_income\\\"], poor[\\\"family_income\\\"], excellent[\\\"family_income\\\"]\\n)\\n\\nreject = p < 0.05\\nreject\";\n",
       "                var nbb_cells = Jupyter.notebook.get_cells();\n",
       "                for (var i = 0; i < nbb_cells.length; ++i) {\n",
       "                    if (nbb_cells[i].input_prompt_number == nbb_cell_id) {\n",
       "                        if (nbb_cells[i].get_text() == nbb_unformatted_code) {\n",
       "                             nbb_cells[i].set_text(nbb_formatted_code);\n",
       "                        }\n",
       "                        break;\n",
       "                    }\n",
       "                }\n",
       "            }, 500);\n",
       "            "
      ],
      "text/plain": [
       "<IPython.core.display.Javascript object>"
      ]
     },
     "metadata": {},
     "output_type": "display_data"
    }
   ],
   "source": [
    "_, p = stats.kruskal(\n",
    "    other[\"family_income\"], poor[\"family_income\"], excellent[\"family_income\"]\n",
    ")\n",
    "\n",
    "reject = p < 0.05\n",
    "reject"
   ]
  },
  {
   "cell_type": "code",
   "execution_count": 18,
   "metadata": {},
   "outputs": [
    {
     "data": {
      "text/plain": [
       "array([ True,  True,  True])"
      ]
     },
     "execution_count": 18,
     "metadata": {},
     "output_type": "execute_result"
    },
    {
     "data": {
      "application/javascript": [
       "\n",
       "            setTimeout(function() {\n",
       "                var nbb_cell_id = 18;\n",
       "                var nbb_unformatted_code = \"_, p1 = stats.kruskal(other[\\\"family_income\\\"], poor[\\\"family_income\\\"])\\n\\n_, p2 = stats.kruskal(other[\\\"family_income\\\"], excellent[\\\"family_income\\\"])\\n\\n_, p3 = stats.kruskal(poor[\\\"family_income\\\"], excellent[\\\"family_income\\\"])\\n\\nreject, corrected_p, _, _ = multipletests([p1, p2, p3])\\nreject\";\n",
       "                var nbb_formatted_code = \"_, p1 = stats.kruskal(other[\\\"family_income\\\"], poor[\\\"family_income\\\"])\\n\\n_, p2 = stats.kruskal(other[\\\"family_income\\\"], excellent[\\\"family_income\\\"])\\n\\n_, p3 = stats.kruskal(poor[\\\"family_income\\\"], excellent[\\\"family_income\\\"])\\n\\nreject, corrected_p, _, _ = multipletests([p1, p2, p3])\\nreject\";\n",
       "                var nbb_cells = Jupyter.notebook.get_cells();\n",
       "                for (var i = 0; i < nbb_cells.length; ++i) {\n",
       "                    if (nbb_cells[i].input_prompt_number == nbb_cell_id) {\n",
       "                        if (nbb_cells[i].get_text() == nbb_unformatted_code) {\n",
       "                             nbb_cells[i].set_text(nbb_formatted_code);\n",
       "                        }\n",
       "                        break;\n",
       "                    }\n",
       "                }\n",
       "            }, 500);\n",
       "            "
      ],
      "text/plain": [
       "<IPython.core.display.Javascript object>"
      ]
     },
     "metadata": {},
     "output_type": "display_data"
    }
   ],
   "source": [
    "_, p1 = stats.kruskal(other[\"family_income\"], poor[\"family_income\"])\n",
    "\n",
    "_, p2 = stats.kruskal(other[\"family_income\"], excellent[\"family_income\"])\n",
    "\n",
    "_, p3 = stats.kruskal(poor[\"family_income\"], excellent[\"family_income\"])\n",
    "\n",
    "reject, corrected_p, _, _ = multipletests([p1, p2, p3])\n",
    "reject"
   ]
  },
  {
   "cell_type": "markdown",
   "metadata": {},
   "source": [
    "#### Common language effect size\n",
    "\n",
    "> Interpret as the probability that a score sampled at random from one distribution will be greater than a score sampled from some other distribution."
   ]
  },
  {
   "cell_type": "code",
   "execution_count": 19,
   "metadata": {},
   "outputs": [
    {
     "name": "stdout",
     "output_type": "stream",
     "text": [
      "other health median income: 17586.0\n",
      "poor health median income: 12054.0\n",
      "------------------------------------\n",
      "Effect size 0.6093629996803375\n"
     ]
    },
    {
     "data": {
      "application/javascript": [
       "\n",
       "            setTimeout(function() {\n",
       "                var nbb_cell_id = 19;\n",
       "                var nbb_unformatted_code = \"cles = cles_ind(other[\\\"family_income\\\"], poor[\\\"family_income\\\"])\\n\\nprint(f'other health median income: {other[\\\"family_income\\\"].median()}')\\nprint(f'poor health median income: {poor[\\\"family_income\\\"].median()}')\\nprint(\\\"------------------------------------\\\")\\nprint(f\\\"Effect size {cles}\\\")\";\n",
       "                var nbb_formatted_code = \"cles = cles_ind(other[\\\"family_income\\\"], poor[\\\"family_income\\\"])\\n\\nprint(f'other health median income: {other[\\\"family_income\\\"].median()}')\\nprint(f'poor health median income: {poor[\\\"family_income\\\"].median()}')\\nprint(\\\"------------------------------------\\\")\\nprint(f\\\"Effect size {cles}\\\")\";\n",
       "                var nbb_cells = Jupyter.notebook.get_cells();\n",
       "                for (var i = 0; i < nbb_cells.length; ++i) {\n",
       "                    if (nbb_cells[i].input_prompt_number == nbb_cell_id) {\n",
       "                        if (nbb_cells[i].get_text() == nbb_unformatted_code) {\n",
       "                             nbb_cells[i].set_text(nbb_formatted_code);\n",
       "                        }\n",
       "                        break;\n",
       "                    }\n",
       "                }\n",
       "            }, 500);\n",
       "            "
      ],
      "text/plain": [
       "<IPython.core.display.Javascript object>"
      ]
     },
     "metadata": {},
     "output_type": "display_data"
    }
   ],
   "source": [
    "cles = cles_ind(other[\"family_income\"], poor[\"family_income\"])\n",
    "\n",
    "print(f'other health median income: {other[\"family_income\"].median()}')\n",
    "print(f'poor health median income: {poor[\"family_income\"].median()}')\n",
    "print(\"------------------------------------\")\n",
    "print(f\"Effect size {cles}\")"
   ]
  },
  {
   "cell_type": "code",
   "execution_count": 20,
   "metadata": {},
   "outputs": [
    {
     "name": "stdout",
     "output_type": "stream",
     "text": [
      "other health median income: 17586.0\n",
      "excellent health median income: 22754.0\n",
      "------------------------------------\n",
      "Effect size 0.5628583776829642\n"
     ]
    },
    {
     "data": {
      "application/javascript": [
       "\n",
       "            setTimeout(function() {\n",
       "                var nbb_cell_id = 20;\n",
       "                var nbb_unformatted_code = \"cles = cles_ind(other[\\\"family_income\\\"], excellent[\\\"family_income\\\"])\\n\\nprint(f'other health median income: {other[\\\"family_income\\\"].median()}')\\nprint(f'excellent health median income: {excellent[\\\"family_income\\\"].median()}')\\nprint(\\\"------------------------------------\\\")\\nprint(f\\\"Effect size {cles}\\\")\";\n",
       "                var nbb_formatted_code = \"cles = cles_ind(other[\\\"family_income\\\"], excellent[\\\"family_income\\\"])\\n\\nprint(f'other health median income: {other[\\\"family_income\\\"].median()}')\\nprint(f'excellent health median income: {excellent[\\\"family_income\\\"].median()}')\\nprint(\\\"------------------------------------\\\")\\nprint(f\\\"Effect size {cles}\\\")\";\n",
       "                var nbb_cells = Jupyter.notebook.get_cells();\n",
       "                for (var i = 0; i < nbb_cells.length; ++i) {\n",
       "                    if (nbb_cells[i].input_prompt_number == nbb_cell_id) {\n",
       "                        if (nbb_cells[i].get_text() == nbb_unformatted_code) {\n",
       "                             nbb_cells[i].set_text(nbb_formatted_code);\n",
       "                        }\n",
       "                        break;\n",
       "                    }\n",
       "                }\n",
       "            }, 500);\n",
       "            "
      ],
      "text/plain": [
       "<IPython.core.display.Javascript object>"
      ]
     },
     "metadata": {},
     "output_type": "display_data"
    }
   ],
   "source": [
    "cles = cles_ind(other[\"family_income\"], excellent[\"family_income\"])\n",
    "\n",
    "print(f'other health median income: {other[\"family_income\"].median()}')\n",
    "print(f'excellent health median income: {excellent[\"family_income\"].median()}')\n",
    "print(\"------------------------------------\")\n",
    "print(f\"Effect size {cles}\")"
   ]
  },
  {
   "cell_type": "code",
   "execution_count": 21,
   "metadata": {},
   "outputs": [
    {
     "name": "stdout",
     "output_type": "stream",
     "text": [
      "poor health median income: 12054.0\n",
      "excellent health median income: 22754.0\n",
      "------------------------------------\n",
      "Effect size 0.6588376133570641\n"
     ]
    },
    {
     "data": {
      "application/javascript": [
       "\n",
       "            setTimeout(function() {\n",
       "                var nbb_cell_id = 21;\n",
       "                var nbb_unformatted_code = \"cles = cles_ind(poor[\\\"family_income\\\"], excellent[\\\"family_income\\\"])\\n\\nprint(f'poor health median income: {poor[\\\"family_income\\\"].median()}')\\nprint(f'excellent health median income: {excellent[\\\"family_income\\\"].median()}')\\nprint(\\\"------------------------------------\\\")\\nprint(f\\\"Effect size {cles}\\\")\";\n",
       "                var nbb_formatted_code = \"cles = cles_ind(poor[\\\"family_income\\\"], excellent[\\\"family_income\\\"])\\n\\nprint(f'poor health median income: {poor[\\\"family_income\\\"].median()}')\\nprint(f'excellent health median income: {excellent[\\\"family_income\\\"].median()}')\\nprint(\\\"------------------------------------\\\")\\nprint(f\\\"Effect size {cles}\\\")\";\n",
       "                var nbb_cells = Jupyter.notebook.get_cells();\n",
       "                for (var i = 0; i < nbb_cells.length; ++i) {\n",
       "                    if (nbb_cells[i].input_prompt_number == nbb_cell_id) {\n",
       "                        if (nbb_cells[i].get_text() == nbb_unformatted_code) {\n",
       "                             nbb_cells[i].set_text(nbb_formatted_code);\n",
       "                        }\n",
       "                        break;\n",
       "                    }\n",
       "                }\n",
       "            }, 500);\n",
       "            "
      ],
      "text/plain": [
       "<IPython.core.display.Javascript object>"
      ]
     },
     "metadata": {},
     "output_type": "display_data"
    }
   ],
   "source": [
    "cles = cles_ind(poor[\"family_income\"], excellent[\"family_income\"])\n",
    "\n",
    "print(f'poor health median income: {poor[\"family_income\"].median()}')\n",
    "print(f'excellent health median income: {excellent[\"family_income\"].median()}')\n",
    "print(\"------------------------------------\")\n",
    "print(f\"Effect size {cles}\")"
   ]
  }
 ],
 "metadata": {
  "kernelspec": {
   "display_name": "Python 3",
   "language": "python",
   "name": "python3"
  },
  "language_info": {
   "codemirror_mode": {
    "name": "ipython",
    "version": 3
   },
   "file_extension": ".py",
   "mimetype": "text/x-python",
   "name": "python",
   "nbconvert_exporter": "python",
   "pygments_lexer": "ipython3",
   "version": "3.7.7"
  }
 },
 "nbformat": 4,
 "nbformat_minor": 2
}
